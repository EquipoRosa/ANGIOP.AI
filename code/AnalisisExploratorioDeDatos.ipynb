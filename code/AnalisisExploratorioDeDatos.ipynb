{
 "cells": [
  {
   "cell_type": "markdown",
   "id": "eb4ce726",
   "metadata": {},
   "source": [
    "### EDA\n",
    "Análisis exploratorio de los Datos (EDA) es entender los datasets sumarizando sus principales características y usualmente presentándolas visualmente. "
   ]
  },
  {
   "cell_type": "code",
   "execution_count": null,
   "id": "965887ea",
   "metadata": {},
   "outputs": [],
   "source": [
    "#folder_path = Params.path_dcm\n",
    "folder_path = \"./DCM/\"\n",
    "\n",
    "ds_list=[]\n",
    "for p in os.listdir(folder_path):\n",
    "    for q in os.listdir(os.path.join(folder_path, p)):\n",
    "        dcm_path = os.path.join(folder_path, p, q)\n",
    "        images_path = os.listdir(dcm_path)\n",
    "        for n, image in enumerate(images_path):\n",
    "            ds = pydicom.read_file(os.path.join(dcm_path, image), force=True)\n",
    "            ds_list.append(ds)"
   ]
  },
  {
   "cell_type": "code",
   "execution_count": null,
   "id": "256be73d",
   "metadata": {},
   "outputs": [],
   "source": [
    "plt.imshow(ds_list[-10].pixel_array)"
   ]
  },
  {
   "cell_type": "code",
   "execution_count": null,
   "id": "f5419ff5",
   "metadata": {},
   "outputs": [],
   "source": [
    "print(ds_list[1].pixel_array.shape)"
   ]
  },
  {
   "cell_type": "code",
   "execution_count": null,
   "id": "5a0972a4",
   "metadata": {},
   "outputs": [],
   "source": [
    "len(ds_list)"
   ]
  },
  {
   "cell_type": "code",
   "execution_count": null,
   "id": "24cc0f8d",
   "metadata": {},
   "outputs": [],
   "source": [
    "len(info_image['shape'])"
   ]
  },
  {
   "cell_type": "code",
   "execution_count": null,
   "id": "3cbf35ba",
   "metadata": {},
   "outputs": [],
   "source": [
    "info_image = {}\n",
    "info_image['shape'] = []\n",
    "info_image['mean_pixel'] = []\n",
    "info_image['min_pixel'] = []\n",
    "info_image['max_pixel'] = []\n",
    "info_image['std_pixel'] = []\n",
    "\n",
    "for i in ds_list:\n",
    "    info_image['shape'].append(i.pixel_array.shape)\n",
    "    info_image['mean_pixel'].append(i.pixel_array.mean())\n",
    "    info_image['min_pixel'].append(i.pixel_array.min())\n",
    "    info_image['max_pixel'].append(i.pixel_array.max())\n",
    "    info_image['std_pixel'].append(i.pixel_array.std())"
   ]
  },
  {
   "cell_type": "code",
   "execution_count": null,
   "id": "dc2f4fb5",
   "metadata": {},
   "outputs": [],
   "source": [
    "info_imagesDF=pd.DataFrame(info_image)\n",
    "print(info_imagesDF)"
   ]
  },
  {
   "cell_type": "code",
   "execution_count": null,
   "id": "0c6a6285",
   "metadata": {},
   "outputs": [],
   "source": [
    "info_imagesDF['shape'].value_counts()"
   ]
  },
  {
   "cell_type": "code",
   "execution_count": null,
   "id": "c07459d4",
   "metadata": {},
   "outputs": [],
   "source": [
    "info_imagesDF['shape'] = info_imagesDF['shape'].astype('str') \n",
    "info_imagesDF = info_imagesDF[info_imagesDF['shape']==\"(512, 512)\"]\n",
    "print(info_imagesDF)"
   ]
  },
  {
   "cell_type": "code",
   "execution_count": null,
   "id": "1c436e13",
   "metadata": {},
   "outputs": [],
   "source": [
    "print(info_imagesDF.describe())"
   ]
  },
  {
   "cell_type": "code",
   "execution_count": null,
   "id": "1d8a49d4",
   "metadata": {},
   "outputs": [],
   "source": [
    "info_imagesDF.hist()"
   ]
  }
 ],
 "metadata": {
  "kernelspec": {
   "display_name": "Python 3 (ipykernel)",
   "language": "python",
   "name": "python3"
  },
  "language_info": {
   "codemirror_mode": {
    "name": "ipython",
    "version": 3
   },
   "file_extension": ".py",
   "mimetype": "text/x-python",
   "name": "python",
   "nbconvert_exporter": "python",
   "pygments_lexer": "ipython3",
   "version": "3.8.8"
  }
 },
 "nbformat": 4,
 "nbformat_minor": 5
}
